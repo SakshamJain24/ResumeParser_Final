{
  "nbformat": 4,
  "nbformat_minor": 0,
  "metadata": {
    "colab": {
      "provenance": []
    },
    "kernelspec": {
      "name": "python3",
      "display_name": "Python 3"
    },
    "language_info": {
      "name": "python"
    }
  },
  "cells": [
    {
      "cell_type": "markdown",
      "source": [
        "When custom training a SpaCy-RoBERTa model, you cannot use JSON files directly as input for training. The JSON files first need to be converted to the .spacy format to be compatible with the training process.\n",
        "\n",
        "To do this, specify the path to your annotated JSON files in the \"data_folder\" variable."
      ],
      "metadata": {
        "id": "PHpw4_QIFLnK"
      }
    },
    {
      "cell_type": "code",
      "execution_count": 2,
      "metadata": {
        "id": "2v8e9wCToDmw"
      },
      "outputs": [],
      "source": [
        "import os\n",
        "import json\n",
        "import spacy\n",
        "from spacy.tokens import DocBin\n",
        "\n",
        "data_folder = \"/content/drive/MyDrive/ResumeParser_FinalYear(Annotations)/AnnotatedResumes\"\n",
        "\n",
        "nlp = spacy.blank(\"en\")\n",
        "\n",
        "# DocBin to store the examples\n",
        "doc_bin = DocBin()\n",
        "\n",
        "# Looping over all the JSON files in the folder\n",
        "for filename in os.listdir(data_folder):\n",
        "    if filename.endswith(\".json\"):\n",
        "        with open(os.path.join(data_folder, filename), \"r\") as f:\n",
        "            data = json.load(f)\n",
        "            # Processing each annotation in the file\n",
        "            for text, annot in data['annotations']:\n",
        "                doc = nlp.make_doc(text)\n",
        "                ents = []\n",
        "                for start, end, label in annot['entities']:\n",
        "                    span = doc.char_span(start, end, label=label)\n",
        "                    if span:\n",
        "                        ents.append(span)\n",
        "                doc.ents = ents\n",
        "                doc_bin.add(doc)\n",
        "\n",
        "# DocBin object\n",
        "doc_bin.to_disk(\"./train.spacy\")\n"
      ]
    }
  ]
}